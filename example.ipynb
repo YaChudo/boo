{
 "nbformat": 4,
 "nbformat_minor": 2,
 "metadata": {
  "language_info": {
   "name": "python",
   "codemirror_mode": {
    "name": "ipython",
    "version": 3
   },
   "version": "3.7.3-final"
  },
  "orig_nbformat": 2,
  "file_extension": ".py",
  "mimetype": "text/x-python",
  "name": "python",
  "npconvert_exporter": "python",
  "pygments_lexer": "ipython3",
  "version": 3,
  "kernelspec": {
   "name": "python37364bitbaseconda3d0df32acbf94208a2f6b22b84936c44",
   "display_name": "Python 3.7.3 64-bit ('base': conda)"
  }
 },
 "cells": [
  {
   "cell_type": "code",
   "execution_count": 21,
   "metadata": {},
   "outputs": [],
   "source": [
    "import boo"
   ]
  },
  {
   "cell_type": "code",
   "execution_count": 35,
   "metadata": {},
   "outputs": [
    {
     "name": "stdout",
     "output_type": "stream",
     "text": "DeletedC:\\Users\\Евгений\\.boo\\raw2018.csv\nDownloading source file for 2018 fromhttps://boodata.s3.eu-central-1.amazonaws.com/data-20191029t000000-structure-20181231t000000.csv\n108324 k [00:26, 4673.21 k/s]"
    }
   ],
   "source": [
    "url = \"https://boodata.s3.eu-central-1.amazonaws.com/data-20191029t000000-structure-20181231t000000.csv\"\n",
    "boo.download_direct(url, 2018, force=True)"
   ]
  },
  {
   "cell_type": "code",
   "execution_count": 33,
   "metadata": {},
   "outputs": [
    {
     "ename": "ValueError",
     "evalue": "Integer column has NA values in column 16",
     "output_type": "error",
     "traceback": [
      "\u001b[1;31m---------------------------------------------------------------------------\u001b[0m",
      "\u001b[1;31mValueError\u001b[0m                                Traceback (most recent call last)",
      "\u001b[1;32m<ipython-input-33-73ba4c10e196>\u001b[0m in \u001b[0;36m<module>\u001b[1;34m\u001b[0m\n\u001b[1;32m----> 1\u001b[1;33m \u001b[0msource_df\u001b[0m \u001b[1;33m=\u001b[0m \u001b[0mboo\u001b[0m\u001b[1;33m.\u001b[0m\u001b[0mread_dataframe\u001b[0m\u001b[1;33m(\u001b[0m\u001b[1;36m2018\u001b[0m\u001b[1;33m)\u001b[0m\u001b[1;33m\u001b[0m\u001b[1;33m\u001b[0m\u001b[0m\n\u001b[0m\u001b[0;32m      2\u001b[0m \u001b[0msource_df\u001b[0m\u001b[1;33m\u001b[0m\u001b[1;33m\u001b[0m\u001b[0m\n",
      "\u001b[1;32md:\\github\\boo\\boo\\main.py\u001b[0m in \u001b[0;36mread_dataframe\u001b[1;34m(year, directory, **kwargs)\u001b[0m\n\u001b[0;32m     78\u001b[0m         \u001b[0mpandas\u001b[0m\u001b[1;33m.\u001b[0m\u001b[0mDataFrame\u001b[0m\u001b[1;33m\u001b[0m\u001b[1;33m\u001b[0m\u001b[0m\n\u001b[0;32m     79\u001b[0m     \"\"\"\n\u001b[1;32m---> 80\u001b[1;33m     \u001b[1;32mreturn\u001b[0m \u001b[0mcanonic_df\u001b[0m\u001b[1;33m(\u001b[0m\u001b[0mread_intermediate_df\u001b[0m\u001b[1;33m(\u001b[0m\u001b[0myear\u001b[0m\u001b[1;33m,\u001b[0m \u001b[0mdirectory\u001b[0m\u001b[1;33m,\u001b[0m \u001b[1;33m**\u001b[0m\u001b[0mkwargs\u001b[0m\u001b[1;33m)\u001b[0m\u001b[1;33m)\u001b[0m\u001b[1;33m\u001b[0m\u001b[1;33m\u001b[0m\u001b[0m\n\u001b[0m\u001b[0;32m     81\u001b[0m \u001b[1;33m\u001b[0m\u001b[0m\n\u001b[0;32m     82\u001b[0m \u001b[1;33m\u001b[0m\u001b[0m\n",
      "\u001b[1;32md:\\github\\boo\\boo\\main.py\u001b[0m in \u001b[0;36mread_intermediate_df\u001b[1;34m(year, directory, **kwargs)\u001b[0m\n\u001b[0;32m     68\u001b[0m         \u001b[0mnames\u001b[0m\u001b[1;33m=\u001b[0m\u001b[0mSHORT_COLUMNS\u001b[0m\u001b[1;33m.\u001b[0m\u001b[0mall\u001b[0m\u001b[1;33m,\u001b[0m  \u001b[1;31m# give new names to columns\u001b[0m\u001b[1;33m\u001b[0m\u001b[1;33m\u001b[0m\u001b[0m\n\u001b[0;32m     69\u001b[0m         \u001b[0mdtype\u001b[0m\u001b[1;33m=\u001b[0m\u001b[0mSHORT_COLUMNS\u001b[0m\u001b[1;33m.\u001b[0m\u001b[0mdtypes\u001b[0m\u001b[1;33m,\u001b[0m  \u001b[1;31m# assert string types\u001b[0m\u001b[1;33m\u001b[0m\u001b[1;33m\u001b[0m\u001b[0m\n\u001b[1;32m---> 70\u001b[1;33m         \u001b[1;33m**\u001b[0m\u001b[0mkwargs\u001b[0m\u001b[1;33m,\u001b[0m\u001b[1;33m\u001b[0m\u001b[1;33m\u001b[0m\u001b[0m\n\u001b[0m\u001b[0;32m     71\u001b[0m     )\n\u001b[0;32m     72\u001b[0m \u001b[1;33m\u001b[0m\u001b[0m\n",
      "\u001b[1;32mD:\\Anaconda3\\lib\\site-packages\\pandas\\io\\parsers.py\u001b[0m in \u001b[0;36mparser_f\u001b[1;34m(filepath_or_buffer, sep, delimiter, header, names, index_col, usecols, squeeze, prefix, mangle_dupe_cols, dtype, engine, converters, true_values, false_values, skipinitialspace, skiprows, skipfooter, nrows, na_values, keep_default_na, na_filter, verbose, skip_blank_lines, parse_dates, infer_datetime_format, keep_date_col, date_parser, dayfirst, cache_dates, iterator, chunksize, compression, thousands, decimal, lineterminator, quotechar, quoting, doublequote, escapechar, comment, encoding, dialect, error_bad_lines, warn_bad_lines, delim_whitespace, low_memory, memory_map, float_precision)\u001b[0m\n\u001b[0;32m    674\u001b[0m         )\n\u001b[0;32m    675\u001b[0m \u001b[1;33m\u001b[0m\u001b[0m\n\u001b[1;32m--> 676\u001b[1;33m         \u001b[1;32mreturn\u001b[0m \u001b[0m_read\u001b[0m\u001b[1;33m(\u001b[0m\u001b[0mfilepath_or_buffer\u001b[0m\u001b[1;33m,\u001b[0m \u001b[0mkwds\u001b[0m\u001b[1;33m)\u001b[0m\u001b[1;33m\u001b[0m\u001b[1;33m\u001b[0m\u001b[0m\n\u001b[0m\u001b[0;32m    677\u001b[0m \u001b[1;33m\u001b[0m\u001b[0m\n\u001b[0;32m    678\u001b[0m     \u001b[0mparser_f\u001b[0m\u001b[1;33m.\u001b[0m\u001b[0m__name__\u001b[0m \u001b[1;33m=\u001b[0m \u001b[0mname\u001b[0m\u001b[1;33m\u001b[0m\u001b[1;33m\u001b[0m\u001b[0m\n",
      "\u001b[1;32mD:\\Anaconda3\\lib\\site-packages\\pandas\\io\\parsers.py\u001b[0m in \u001b[0;36m_read\u001b[1;34m(filepath_or_buffer, kwds)\u001b[0m\n\u001b[0;32m    452\u001b[0m \u001b[1;33m\u001b[0m\u001b[0m\n\u001b[0;32m    453\u001b[0m     \u001b[1;32mtry\u001b[0m\u001b[1;33m:\u001b[0m\u001b[1;33m\u001b[0m\u001b[1;33m\u001b[0m\u001b[0m\n\u001b[1;32m--> 454\u001b[1;33m         \u001b[0mdata\u001b[0m \u001b[1;33m=\u001b[0m \u001b[0mparser\u001b[0m\u001b[1;33m.\u001b[0m\u001b[0mread\u001b[0m\u001b[1;33m(\u001b[0m\u001b[0mnrows\u001b[0m\u001b[1;33m)\u001b[0m\u001b[1;33m\u001b[0m\u001b[1;33m\u001b[0m\u001b[0m\n\u001b[0m\u001b[0;32m    455\u001b[0m     \u001b[1;32mfinally\u001b[0m\u001b[1;33m:\u001b[0m\u001b[1;33m\u001b[0m\u001b[1;33m\u001b[0m\u001b[0m\n\u001b[0;32m    456\u001b[0m         \u001b[0mparser\u001b[0m\u001b[1;33m.\u001b[0m\u001b[0mclose\u001b[0m\u001b[1;33m(\u001b[0m\u001b[1;33m)\u001b[0m\u001b[1;33m\u001b[0m\u001b[1;33m\u001b[0m\u001b[0m\n",
      "\u001b[1;32mD:\\Anaconda3\\lib\\site-packages\\pandas\\io\\parsers.py\u001b[0m in \u001b[0;36mread\u001b[1;34m(self, nrows)\u001b[0m\n\u001b[0;32m   1131\u001b[0m     \u001b[1;32mdef\u001b[0m \u001b[0mread\u001b[0m\u001b[1;33m(\u001b[0m\u001b[0mself\u001b[0m\u001b[1;33m,\u001b[0m \u001b[0mnrows\u001b[0m\u001b[1;33m=\u001b[0m\u001b[1;32mNone\u001b[0m\u001b[1;33m)\u001b[0m\u001b[1;33m:\u001b[0m\u001b[1;33m\u001b[0m\u001b[1;33m\u001b[0m\u001b[0m\n\u001b[0;32m   1132\u001b[0m         \u001b[0mnrows\u001b[0m \u001b[1;33m=\u001b[0m \u001b[0m_validate_integer\u001b[0m\u001b[1;33m(\u001b[0m\u001b[1;34m\"nrows\"\u001b[0m\u001b[1;33m,\u001b[0m \u001b[0mnrows\u001b[0m\u001b[1;33m)\u001b[0m\u001b[1;33m\u001b[0m\u001b[1;33m\u001b[0m\u001b[0m\n\u001b[1;32m-> 1133\u001b[1;33m         \u001b[0mret\u001b[0m \u001b[1;33m=\u001b[0m \u001b[0mself\u001b[0m\u001b[1;33m.\u001b[0m\u001b[0m_engine\u001b[0m\u001b[1;33m.\u001b[0m\u001b[0mread\u001b[0m\u001b[1;33m(\u001b[0m\u001b[0mnrows\u001b[0m\u001b[1;33m)\u001b[0m\u001b[1;33m\u001b[0m\u001b[1;33m\u001b[0m\u001b[0m\n\u001b[0m\u001b[0;32m   1134\u001b[0m \u001b[1;33m\u001b[0m\u001b[0m\n\u001b[0;32m   1135\u001b[0m         \u001b[1;31m# May alter columns / col_dict\u001b[0m\u001b[1;33m\u001b[0m\u001b[1;33m\u001b[0m\u001b[1;33m\u001b[0m\u001b[0m\n",
      "\u001b[1;32mD:\\Anaconda3\\lib\\site-packages\\pandas\\io\\parsers.py\u001b[0m in \u001b[0;36mread\u001b[1;34m(self, nrows)\u001b[0m\n\u001b[0;32m   2035\u001b[0m     \u001b[1;32mdef\u001b[0m \u001b[0mread\u001b[0m\u001b[1;33m(\u001b[0m\u001b[0mself\u001b[0m\u001b[1;33m,\u001b[0m \u001b[0mnrows\u001b[0m\u001b[1;33m=\u001b[0m\u001b[1;32mNone\u001b[0m\u001b[1;33m)\u001b[0m\u001b[1;33m:\u001b[0m\u001b[1;33m\u001b[0m\u001b[1;33m\u001b[0m\u001b[0m\n\u001b[0;32m   2036\u001b[0m         \u001b[1;32mtry\u001b[0m\u001b[1;33m:\u001b[0m\u001b[1;33m\u001b[0m\u001b[1;33m\u001b[0m\u001b[0m\n\u001b[1;32m-> 2037\u001b[1;33m             \u001b[0mdata\u001b[0m \u001b[1;33m=\u001b[0m \u001b[0mself\u001b[0m\u001b[1;33m.\u001b[0m\u001b[0m_reader\u001b[0m\u001b[1;33m.\u001b[0m\u001b[0mread\u001b[0m\u001b[1;33m(\u001b[0m\u001b[0mnrows\u001b[0m\u001b[1;33m)\u001b[0m\u001b[1;33m\u001b[0m\u001b[1;33m\u001b[0m\u001b[0m\n\u001b[0m\u001b[0;32m   2038\u001b[0m         \u001b[1;32mexcept\u001b[0m \u001b[0mStopIteration\u001b[0m\u001b[1;33m:\u001b[0m\u001b[1;33m\u001b[0m\u001b[1;33m\u001b[0m\u001b[0m\n\u001b[0;32m   2039\u001b[0m             \u001b[1;32mif\u001b[0m \u001b[0mself\u001b[0m\u001b[1;33m.\u001b[0m\u001b[0m_first_chunk\u001b[0m\u001b[1;33m:\u001b[0m\u001b[1;33m\u001b[0m\u001b[1;33m\u001b[0m\u001b[0m\n",
      "\u001b[1;32mpandas\\_libs\\parsers.pyx\u001b[0m in \u001b[0;36mpandas._libs.parsers.TextReader.read\u001b[1;34m()\u001b[0m\n",
      "\u001b[1;32mpandas\\_libs\\parsers.pyx\u001b[0m in \u001b[0;36mpandas._libs.parsers.TextReader._read_low_memory\u001b[1;34m()\u001b[0m\n",
      "\u001b[1;32mpandas\\_libs\\parsers.pyx\u001b[0m in \u001b[0;36mpandas._libs.parsers.TextReader._read_rows\u001b[1;34m()\u001b[0m\n",
      "\u001b[1;32mpandas\\_libs\\parsers.pyx\u001b[0m in \u001b[0;36mpandas._libs.parsers.TextReader._convert_column_data\u001b[1;34m()\u001b[0m\n",
      "\u001b[1;32mpandas\\_libs\\parsers.pyx\u001b[0m in \u001b[0;36mpandas._libs.parsers.TextReader._convert_tokens\u001b[1;34m()\u001b[0m\n",
      "\u001b[1;32mpandas\\_libs\\parsers.pyx\u001b[0m in \u001b[0;36mpandas._libs.parsers.TextReader._convert_with_dtype\u001b[1;34m()\u001b[0m\n",
      "\u001b[1;31mValueError\u001b[0m: Integer column has NA values in column 16"
     ]
    }
   ],
   "source": [
    "source_df = boo.read_dataframe(2018)\n",
    "source_df"
   ]
  },
  {
   "cell_type": "code",
   "execution_count": 30,
   "metadata": {},
   "outputs": [
    {
     "data": {
      "text/html": "<div>\n<style scoped>\n    .dataframe tbody tr th:only-of-type {\n        vertical-align: middle;\n    }\n\n    .dataframe tbody tr th {\n        vertical-align: top;\n    }\n\n    .dataframe thead th {\n        text-align: right;\n    }\n</style>\n<table border=\"1\" class=\"dataframe\">\n  <thead>\n    <tr style=\"text-align: right;\">\n      <th></th>\n      <th>ok1</th>\n      <th>region</th>\n      <th>title</th>\n      <th>ta</th>\n      <th>sales</th>\n      <th>profit_before_tax</th>\n    </tr>\n    <tr>\n      <th>inn</th>\n      <th></th>\n      <th></th>\n      <th></th>\n      <th></th>\n      <th></th>\n      <th></th>\n    </tr>\n  </thead>\n  <tbody>\n    <tr>\n      <th>7720704500</th>\n      <td>51</td>\n      <td>77</td>\n      <td>Проф Электро</td>\n      <td>-8.7</td>\n      <td>222.6</td>\n      <td>0.0</td>\n    </tr>\n    <tr>\n      <th>7722763519</th>\n      <td>65</td>\n      <td>77</td>\n      <td>Альянс Холдинг</td>\n      <td>-8.3</td>\n      <td>171.1</td>\n      <td>0.0</td>\n    </tr>\n    <tr>\n      <th>7723801622</th>\n      <td>45</td>\n      <td>77</td>\n      <td>СпецТрансСтрой</td>\n      <td>-3.6</td>\n      <td>254.9</td>\n      <td>0.0</td>\n    </tr>\n    <tr>\n      <th>7722663970</th>\n      <td>71</td>\n      <td>77</td>\n      <td>Палас</td>\n      <td>-3.3</td>\n      <td>15.4</td>\n      <td>0.0</td>\n    </tr>\n    <tr>\n      <th>2724161768</th>\n      <td>45</td>\n      <td>27</td>\n      <td>Аэрстрой</td>\n      <td>-2.4</td>\n      <td>0.0</td>\n      <td>-2.5</td>\n    </tr>\n    <tr>\n      <th>...</th>\n      <td>...</td>\n      <td>...</td>\n      <td>...</td>\n      <td>...</td>\n      <td>...</td>\n      <td>...</td>\n    </tr>\n    <tr>\n      <th>7710658157</th>\n      <td>67</td>\n      <td>77</td>\n      <td>НАЦИОНАЛЬНАЯ РЕЗЕРВНАЯ СИСТЕМА</td>\n      <td>2150285.0</td>\n      <td>0.0</td>\n      <td>0.0</td>\n    </tr>\n    <tr>\n      <th>7706107510</th>\n      <td>23</td>\n      <td>77</td>\n      <td>Нефтяная компания \"Роснефть\"</td>\n      <td>2492002.2</td>\n      <td>2595672.3</td>\n      <td>345561.5</td>\n    </tr>\n    <tr>\n      <th>7705630445</th>\n      <td>74</td>\n      <td>77</td>\n      <td>РОСНЕФТЕГАЗ</td>\n      <td>2661872.5</td>\n      <td>83282.4</td>\n      <td>88040.3</td>\n    </tr>\n    <tr>\n      <th>7708503727</th>\n      <td>60</td>\n      <td>77</td>\n      <td>Российские железные дороги</td>\n      <td>4330803.0</td>\n      <td>1366015.0</td>\n      <td>66153.0</td>\n    </tr>\n    <tr>\n      <th>7736050003</th>\n      <td>51</td>\n      <td>77</td>\n      <td>Газпром</td>\n      <td>10035651.8</td>\n      <td>3659150.8</td>\n      <td>753686.9</td>\n    </tr>\n  </tbody>\n</table>\n<p>765776 rows × 6 columns</p>\n</div>",
      "text/plain": "            ok1  region                           title          ta  \\\ninn                                                                   \n7720704500   51      77                    Проф Электро        -8.7   \n7722763519   65      77                  Альянс Холдинг        -8.3   \n7723801622   45      77                  СпецТрансСтрой        -3.6   \n7722663970   71      77                           Палас        -3.3   \n2724161768   45      27                        Аэрстрой        -2.4   \n...         ...     ...                             ...         ...   \n7710658157   67      77  НАЦИОНАЛЬНАЯ РЕЗЕРВНАЯ СИСТЕМА   2150285.0   \n7706107510   23      77    Нефтяная компания \"Роснефть\"   2492002.2   \n7705630445   74      77                     РОСНЕФТЕГАЗ   2661872.5   \n7708503727   60      77      Российские железные дороги   4330803.0   \n7736050003   51      77                         Газпром  10035651.8   \n\n                sales  profit_before_tax  \ninn                                       \n7720704500      222.6                0.0  \n7722763519      171.1                0.0  \n7723801622      254.9                0.0  \n7722663970       15.4                0.0  \n2724161768        0.0               -2.5  \n...               ...                ...  \n7710658157        0.0                0.0  \n7706107510  2595672.3           345561.5  \n7705630445    83282.4            88040.3  \n7708503727  1366015.0            66153.0  \n7736050003  3659150.8           753686.9  \n\n[765776 rows x 6 columns]"
     },
     "execution_count": 30,
     "metadata": {},
     "output_type": "execute_result"
    }
   ],
   "source": [
    "fin_columns = ['ta', 'sales', 'profit_before_tax']\n",
    "text_columns = ['ok1', 'region', 'title']\n",
    "df_full = source_df[text_columns+fin_columns]\n",
    "df_full.loc[:,fin_columns] = df_full.loc[:,fin_columns].divide(1_000).round(1)\n",
    "df_full.sort_values('ta')"
   ]
  },
  {
   "cell_type": "code",
   "execution_count": null,
   "metadata": {},
   "outputs": [],
   "source": []
  },
  {
   "cell_type": "code",
   "execution_count": null,
   "metadata": {},
   "outputs": [],
   "source": []
  },
  {
   "cell_type": "code",
   "execution_count": 14,
   "metadata": {},
   "outputs": [
    {
     "data": {
      "text/html": "<div>\n<style scoped>\n    .dataframe tbody tr th:only-of-type {\n        vertical-align: middle;\n    }\n\n    .dataframe tbody tr th {\n        vertical-align: top;\n    }\n\n    .dataframe thead th {\n        text-align: right;\n    }\n</style>\n<table border=\"1\" class=\"dataframe\">\n  <thead>\n    <tr style=\"text-align: right;\">\n      <th></th>\n      <th>ta</th>\n      <th>sales</th>\n    </tr>\n    <tr>\n      <th>inn</th>\n      <th></th>\n      <th></th>\n    </tr>\n  </thead>\n  <tbody>\n    <tr>\n      <th>3123077591</th>\n      <td>2139</td>\n      <td>22040</td>\n    </tr>\n    <tr>\n      <th>3446045741</th>\n      <td>119</td>\n      <td>0</td>\n    </tr>\n    <tr>\n      <th>3435114922</th>\n      <td>13326</td>\n      <td>180</td>\n    </tr>\n    <tr>\n      <th>3441043300</th>\n      <td>79</td>\n      <td>1274</td>\n    </tr>\n    <tr>\n      <th>3447032255</th>\n      <td>9931</td>\n      <td>32305</td>\n    </tr>\n    <tr>\n      <th>...</th>\n      <td>...</td>\n      <td>...</td>\n    </tr>\n    <tr>\n      <th>1326205809</th>\n      <td>40356</td>\n      <td>43430</td>\n    </tr>\n    <tr>\n      <th>1326205862</th>\n      <td>1290</td>\n      <td>19222</td>\n    </tr>\n    <tr>\n      <th>1322122005</th>\n      <td>9763</td>\n      <td>2235</td>\n    </tr>\n    <tr>\n      <th>1324134609</th>\n      <td>736180</td>\n      <td>299486</td>\n    </tr>\n    <tr>\n      <th>1310187865</th>\n      <td>49</td>\n      <td>3669</td>\n    </tr>\n  </tbody>\n</table>\n<p>642511 rows × 2 columns</p>\n</div>",
      "text/plain": "                ta   sales\ninn                       \n3123077591    2139   22040\n3446045741     119       0\n3435114922   13326     180\n3441043300      79    1274\n3447032255    9931   32305\n...            ...     ...\n1326205809   40356   43430\n1326205862    1290   19222\n1322122005    9763    2235\n1324134609  736180  299486\n1310187865      49    3669\n\n[642511 rows x 2 columns]"
     },
     "execution_count": 14,
     "metadata": {},
     "output_type": "execute_result"
    }
   ],
   "source": [
    "df_full.query('profit_before_tax == 0')[['ta', 'sales']]"
   ]
  },
  {
   "cell_type": "code",
   "execution_count": null,
   "metadata": {},
   "outputs": [],
   "source": []
  }
 ]
}